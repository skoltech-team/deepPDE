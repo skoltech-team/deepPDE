{
 "cells": [
  {
   "cell_type": "code",
   "execution_count": 1,
   "metadata": {
    "collapsed": true
   },
   "outputs": [],
   "source": [
    "import caffe\n",
    "\n",
    "import numpy as np\n",
    "caffe.set_device(0)\n",
    "caffe.set_mode_gpu()\n",
    "\n",
    "solver = caffe.SGDSolver('solver3.prototxt')"
   ]
  },
  {
   "cell_type": "code",
   "execution_count": null,
   "metadata": {
    "collapsed": false
   },
   "outputs": [],
   "source": [
    "print solver.test_nets[0].blobs['label'].data - solver.test_nets[0].blobs['ip3'].data"
   ]
  },
  {
   "cell_type": "code",
   "execution_count": 3,
   "metadata": {
    "collapsed": false
   },
   "outputs": [],
   "source": [
    "import numpy as np\n",
    "loss1 = 0;\n",
    "loss2 = 0;\n",
    "hist = []\n",
    "k = 0;\n",
    "for i in range(30):\n",
    "    solver.test_nets[0].forward()\n",
    "    solver.test_nets[0].backward()\n",
    "    for j in range(64):\n",
    "        loss = solver.test_nets[0].blobs['label'].data[j] - solver.test_nets[0].blobs['ip2'].data[j]\n",
    "        hist.append(abs(loss))\n",
    "    loss1 += np.linalg.norm(solver.test_nets[0].blobs['label'].data - solver.test_nets[0].blobs['ip2'].data, 1)\n",
    "    loss2 += np.linalg.norm(solver.test_nets[0].blobs['label'].data - solver.test_nets[0].blobs['ip2'].data, 2)**2\n",
    "    k += np.mean(solver.test_nets[0].blobs['label'].data)\n"
   ]
  },
  {
   "cell_type": "code",
   "execution_count": null,
   "metadata": {
    "collapsed": false
   },
   "outputs": [],
   "source": [
    "solver.net.params['ip2'][0].diff"
   ]
  },
  {
   "cell_type": "code",
   "execution_count": 2,
   "metadata": {
    "collapsed": true
   },
   "outputs": [],
   "source": [
    "solver.net.copy_from('best_iter_5000.caffemodel')\n",
    "solver.solve()"
   ]
  },
  {
   "cell_type": "code",
   "execution_count": 4,
   "metadata": {
    "collapsed": false
   },
   "outputs": [
    {
     "name": "stdout",
     "output_type": "stream",
     "text": [
      "181.825056076\n"
     ]
    }
   ],
   "source": [
    "print loss1"
   ]
  },
  {
   "cell_type": "code",
   "execution_count": 5,
   "metadata": {
    "collapsed": false
   },
   "outputs": [
    {
     "name": "stdout",
     "output_type": "stream",
     "text": [
      "27.0552970829\n"
     ]
    }
   ],
   "source": [
    "print loss2"
   ]
  },
  {
   "cell_type": "code",
   "execution_count": null,
   "metadata": {
    "collapsed": false
   },
   "outputs": [],
   "source": [
    "print k"
   ]
  },
  {
   "cell_type": "code",
   "execution_count": null,
   "metadata": {
    "collapsed": true
   },
   "outputs": [],
   "source": [
    "k = k / 30."
   ]
  },
  {
   "cell_type": "code",
   "execution_count": null,
   "metadata": {
    "collapsed": false
   },
   "outputs": [],
   "source": [
    "loss1k = 0\n",
    "loss2k = 0\n",
    "hist1 = []\n",
    "x = np.ones(64) * k\n",
    "for i in range(30):\n",
    "    solver.test_nets[0].forward()\n",
    "    for j in range(64):\n",
    "        loss = solver.test_nets[0].blobs['label'].data[j] - x[j]\n",
    "        hist1.append(abs(loss) / x[j])\n",
    "    loss1k += np.linalg.norm(solver.test_nets[0].blobs['label'].data - x, 1)\n",
    "    loss2k += np.linalg.norm(solver.test_nets[0].blobs['label'].data - x, 2)**2"
   ]
  },
  {
   "cell_type": "code",
   "execution_count": null,
   "metadata": {
    "collapsed": false
   },
   "outputs": [],
   "source": [
    "print loss1k"
   ]
  },
  {
   "cell_type": "code",
   "execution_count": null,
   "metadata": {
    "collapsed": false
   },
   "outputs": [],
   "source": [
    "print loss2k"
   ]
  },
  {
   "cell_type": "code",
   "execution_count": null,
   "metadata": {
    "collapsed": false,
    "scrolled": true
   },
   "outputs": [],
   "source": [
    "%matplotlib inline\n",
    "\n",
    "import matplotlib.pyplot as plt\n",
    "\n",
    "plt.hist(hist1[:1000], 20, normed=1, histtype='bar', stacked=True, fill=True)\n",
    "plt.show()"
   ]
  },
  {
   "cell_type": "code",
   "execution_count": null,
   "metadata": {
    "collapsed": true
   },
   "outputs": [],
   "source": [
    "solver.solve()"
   ]
  },
  {
   "cell_type": "code",
   "execution_count": null,
   "metadata": {
    "collapsed": false
   },
   "outputs": [],
   "source": [
    "solver.test_nets[0].blobs['sig'].data"
   ]
  },
  {
   "cell_type": "code",
   "execution_count": null,
   "metadata": {
    "collapsed": true
   },
   "outputs": [],
   "source": []
  }
 ],
 "metadata": {
  "kernelspec": {
   "display_name": "Python 2",
   "language": "python",
   "name": "python2"
  },
  "language_info": {
   "codemirror_mode": {
    "name": "ipython",
    "version": 2
   },
   "file_extension": ".py",
   "mimetype": "text/x-python",
   "name": "python",
   "nbconvert_exporter": "python",
   "pygments_lexer": "ipython2",
   "version": "2.7.10"
  }
 },
 "nbformat": 4,
 "nbformat_minor": 0
}
